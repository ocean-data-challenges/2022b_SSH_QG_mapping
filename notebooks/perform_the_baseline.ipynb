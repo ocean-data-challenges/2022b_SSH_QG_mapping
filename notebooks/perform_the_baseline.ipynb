{
 "cells": [
  {
   "cell_type": "markdown",
   "metadata": {},
   "source": [
    "![header](../figures/DC_SSH_QG_mapping-banner.png)"
   ]
  },
  {
   "cell_type": "markdown",
   "metadata": {},
   "source": [
    "***\n",
    "**Authors:**  Datlas & IGE <br>\n",
    "**Copyright:** 2022 Datlas & IGE <br>\n",
    "**License:** MIT\n",
    "\n",
    "<div class=\"alert alert-block alert-success\">\n",
    "    <h1><center>Perform the baseline</center></h1>\n",
    "    <h5><center>This notebook shows how to address the data challenge by performing the baseline: an optimal interpolation.</h5> \n",
    "</div> \n",
    "\n",
    "\n"
   ]
  },
  {
   "cell_type": "markdown",
   "metadata": {},
   "source": [
    "The notebook is structured as follow: \n",
    "\n",
    "    1) Optimal interpolation principle\n",
    "    2) Set up optimal interpolation parameters,\n",
    "    3) Read observations,\n",
    "    4) Run optimal interpolation \n",
    "    4) Save the outputs  "
   ]
  },
  {
   "cell_type": "code",
   "execution_count": null,
   "metadata": {},
   "outputs": [],
   "source": [
    "import xarray as xr\n",
    "import numpy\n",
    "import warnings\n",
    "import logging\n",
    "import sys\n",
    "import os\n",
    "\n",
    "warnings.filterwarnings('ignore')\n",
    "\n",
    "logger = logging.getLogger()\n",
    "logger.setLevel(logging.INFO)\n",
    "\n",
    "sys.path.append('..')\n",
    "\n",
    "from src.mod_oi import *\n",
    "from src.mod_inout import *\n",
    "from src.mod_regrid import *\n",
    "from src.mod_eval import *\n",
    "from src.mod_plot import *"
   ]
  },
  {
   "cell_type": "markdown",
   "metadata": {},
   "source": [
    "<div class=\"alert alert-info\" role=\"alert\">\n",
    "\n",
    "<h2> Optimal interpolation principle </h2>\n",
    "\n",
    "</div>"
   ]
  },
  {
   "cell_type": "markdown",
   "metadata": {},
   "source": [
    "Here, we assume a vector of observations, noted $y$ defined as:\n",
    "\n",
    "$$y = H x + \\epsilon $$\n",
    "\n",
    "where $H$ is a linear observation operator between the reconstruction grid space and the observation space\n",
    ", $x$ is the state to estimate and $\\epsilon$ is an independent observation error.\n",
    "\n",
    "The optimal interpolation consists in estimating an analysed state $x_{a}$ in combining the available observations to approximate the real state $x$:\n",
    "\n",
    "$$x_{a} = K y $$\n",
    "where $K$ is the weigth matrix defined as:\n",
    "\n",
    "$$ K = BH^T(HBH^T + R)^{-1} $$\n",
    "\n",
    "$B$ is the covariance matrix of $x$, and $R$ the covariance matrix of the error vector $\\epsilon$ ($^T$ is the transpose operator)"
   ]
  },
  {
   "cell_type": "markdown",
   "metadata": {},
   "source": [
    "<div class=\"alert alert-info\" role=\"alert\">\n",
    "\n",
    "<h2> Set up optimal interpolation parameters </h2>\n",
    "\n",
    "</div>"
   ]
  },
  {
   "cell_type": "code",
   "execution_count": null,
   "metadata": {},
   "outputs": [],
   "source": [
    "# OI Grid\n",
    "lon_min = -65.                                           # domain min longitude\n",
    "lon_max = -55.                                           # domain max longitude\n",
    "lat_min = 33.                                            # domain min latitude\n",
    "lat_max = 43.                                            # domain max latitude\n",
    "time_min = numpy.datetime64('2012-10-22')                # domain min time\n",
    "time_max = numpy.datetime64('2012-12-02')                # domain max time\n",
    "dx = 0.2                                                 # zonal grid spatial step (in degree)\n",
    "dy = 0.2                                                 # meridional grid spatial step (in degree)\n",
    "dt = numpy.timedelta64(1, 'D')                           # temporal grid step\n",
    "\n",
    "simu_start_date = '2012-10-01T00:00:00'                  # Nature run initial date\n",
    "\n",
    "glon = numpy.arange(lon_min, lon_max + dx, dx)           # output OI longitude grid\n",
    "glat = numpy.arange(lat_min, lat_max + dy, dy)           # output OI latitude grid\n",
    "gtime = numpy.arange(time_min, time_max + dt, dt)        # output OI time grid\n",
    "\n",
    "# OI parameters\n",
    "Lx = 1.                                                  # Zonal decorrelation scale (in degree)\n",
    "Ly = 1.                                                  # Meridional decorrelation scale (in degree)\n",
    "Lt = 7.                                                  # Temporal decorrelation scale (in days)\n",
    "noise = 0.05                                             # Noise level (5%)"
   ]
  },
  {
   "cell_type": "markdown",
   "metadata": {},
   "source": [
    "<div class=\"alert alert-info\" role=\"alert\">\n",
    "\n",
    "<h2> Read observations </h2>\n",
    "\n",
    "</div>"
   ]
  },
  {
   "cell_type": "code",
   "execution_count": null,
   "metadata": {},
   "outputs": [],
   "source": [
    "inputs = ['../dc_obs/2020a_SSH_mapping_NATL60_jason1.nc'] "
   ]
  },
  {
   "cell_type": "code",
   "execution_count": null,
   "metadata": {},
   "outputs": [],
   "source": [
    "# Load obs dataset\n",
    "ds = xr.open_dataset(inputs[0])\n",
    "ds"
   ]
  },
  {
   "cell_type": "code",
   "execution_count": null,
   "metadata": {},
   "outputs": [],
   "source": [
    "# Define outputs\n",
    "output_directory = '../results/'\n",
    "if not os.path.exists(output_directory):\n",
    "    os.mkdir(output_directory)  \n",
    "output_oi = f'../results/ssh_reconstruction_{time_min}-{time_max}_jason1.nc'"
   ]
  },
  {
   "cell_type": "markdown",
   "metadata": {},
   "source": [
    "<div class=\"alert alert-info\" role=\"alert\">\n",
    "\n",
    "<h2> Run optimal interpolation </h2>\n",
    "\n",
    "</div>"
   ]
  },
  {
   "cell_type": "code",
   "execution_count": null,
   "metadata": {},
   "outputs": [],
   "source": [
    "%%time\n",
    "\n",
    "# set OI param & grid\n",
    "ds_oi1_param = oi_param(Lx, Ly, Lt, noise)\n",
    "ds_oi1_grid = oi_grid(glon, glat, gtime, simu_start_date)\n",
    "\n",
    "# Read input obs + discard a bit...\n",
    "coarsening = {'time': 5}\n",
    "ds_oi1_obs = read_obs(inputs, ds_oi1_grid, ds_oi1_param, simu_start_date, coarsening)\n",
    "\n",
    "# Run OI\n",
    "for it in range(len(gtime)):\n",
    "    oi_core(it, ds_oi1_grid, ds_oi1_param, ds_oi1_obs)"
   ]
  },
  {
   "cell_type": "markdown",
   "metadata": {},
   "source": [
    "<div class=\"alert alert-info\" role=\"alert\">\n",
    "\n",
    "<h2> Save the outputs </h2>\n",
    "\n",
    "</div>"
   ]
  },
  {
   "cell_type": "code",
   "execution_count": null,
   "metadata": {},
   "outputs": [],
   "source": [
    "ds_oi1_grid.to_netcdf(output_oi)"
   ]
  },
  {
   "cell_type": "code",
   "execution_count": null,
   "metadata": {},
   "outputs": [],
   "source": []
  },
  {
   "cell_type": "code",
   "execution_count": null,
   "metadata": {},
   "outputs": [],
   "source": []
  }
 ],
 "metadata": {
  "kernelspec": {
   "display_name": "Python 3",
   "language": "python",
   "name": "python3"
  },
  "language_info": {
   "codemirror_mode": {
    "name": "ipython",
    "version": 3
   },
   "file_extension": ".py",
   "mimetype": "text/x-python",
   "name": "python",
   "nbconvert_exporter": "python",
   "pygments_lexer": "ipython3",
   "version": "3.6.13"
  }
 },
 "nbformat": 4,
 "nbformat_minor": 4
}
